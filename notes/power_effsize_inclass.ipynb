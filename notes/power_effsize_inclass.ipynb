{
 "cells": [
  {
   "cell_type": "markdown",
   "metadata": {},
   "source": [
    "# 1 Effect Size Calculation"
   ]
  },
  {
   "cell_type": "markdown",
   "metadata": {},
   "source": [
    "## 1.1 Cohen's $d$ for $t$-tests"
   ]
  },
  {
   "cell_type": "markdown",
   "metadata": {},
   "source": [
    "Suppose we are interested in whether births are more likely on a weekday or a weekend. We will use a two-sample t-test to investigate this."
   ]
  },
  {
   "cell_type": "code",
   "execution_count": null,
   "metadata": {},
   "outputs": [],
   "source": [
    "library(fivethirtyeight)\n",
    "library(ggplot2)\n",
    "library(dplyr)\n",
    "library(lsr)\n",
    "\n",
    "us_births <- US_births_2000_2014\n"
   ]
  },
  {
   "cell_type": "code",
   "execution_count": null,
   "metadata": {},
   "outputs": [],
   "source": [
    "head(us_births)"
   ]
  },
  {
   "cell_type": "code",
   "execution_count": null,
   "metadata": {},
   "outputs": [],
   "source": [
    "# Add a column indicating if it's a weekend birth\n",
    "\n",
    "us_births <- us_births %>%\n",
    "               mutate(is_weekend = day_of_week == \"Sat\" | day_of_week == \"Sun\")"
   ]
  },
  {
   "cell_type": "code",
   "execution_count": null,
   "metadata": {},
   "outputs": [],
   "source": [
    "ggplot(us_births, aes(x = is_weekend, y = births, fill = is_weekend)) +\n",
    "    geom_boxplot(width = 0.15, colour = \"#777777\")"
   ]
  },
  {
   "cell_type": "code",
   "execution_count": null,
   "metadata": {},
   "outputs": [],
   "source": [
    "t.test(births ~ is_weekend, us_births)"
   ]
  },
  {
   "cell_type": "code",
   "execution_count": null,
   "metadata": {},
   "outputs": [],
   "source": [
    "cohensD(births ~ factor(is_weekend), us_births)"
   ]
  },
  {
   "cell_type": "markdown",
   "metadata": {},
   "source": [
    "---"
   ]
  },
  {
   "cell_type": "markdown",
   "metadata": {},
   "source": [
    "---"
   ]
  },
  {
   "cell_type": "markdown",
   "metadata": {},
   "source": [
    "# 1.2 $\\omega^2$ for ANOVA"
   ]
  },
  {
   "cell_type": "markdown",
   "metadata": {},
   "source": [
    "Now suppose we want to test the difference in births across all days of the week."
   ]
  },
  {
   "cell_type": "code",
   "execution_count": null,
   "metadata": {},
   "outputs": [],
   "source": [
    "ggplot(us_births, aes(x = day_of_week, y = births, fill = day_of_week)) +\n",
    "    geom_boxplot(width = 0.2, colour = \"#777777\") + \n",
    "    geom_jitter(width = 0.2, alpha = 0.1, aes(colour = day_of_week))"
   ]
  },
  {
   "cell_type": "code",
   "execution_count": null,
   "metadata": {},
   "outputs": [],
   "source": [
    "fm1 <- aov(births ~ day_of_week, us_births)"
   ]
  },
  {
   "cell_type": "code",
   "execution_count": null,
   "metadata": {},
   "outputs": [],
   "source": [
    "anova(fm1)"
   ]
  },
  {
   "cell_type": "code",
   "execution_count": null,
   "metadata": {},
   "outputs": [],
   "source": [
    "etaSquared(fm1)"
   ]
  },
  {
   "cell_type": "markdown",
   "metadata": {},
   "source": [
    "---"
   ]
  },
  {
   "cell_type": "markdown",
   "metadata": {},
   "source": [
    "---"
   ]
  },
  {
   "cell_type": "markdown",
   "metadata": {},
   "source": [
    "# 2 Power"
   ]
  },
  {
   "cell_type": "markdown",
   "metadata": {},
   "source": [
    "## 2.1 Power & Sample Size"
   ]
  },
  {
   "cell_type": "markdown",
   "metadata": {},
   "source": [
    "Suppose we want to know the necessary sample size in a two-sample t-test with Cohen's $d = 0.5$, 80% power  $\\alpha = 0.05$."
   ]
  },
  {
   "cell_type": "code",
   "execution_count": null,
   "metadata": {},
   "outputs": [],
   "source": [
    "library(pwr)\n",
    "\n",
    "pwr.t.test(d = 0.5, power = 0.80, sig.level = 0.05)\n"
   ]
  },
  {
   "cell_type": "markdown",
   "metadata": {},
   "source": [
    "---"
   ]
  },
  {
   "cell_type": "markdown",
   "metadata": {},
   "source": [
    "Suppose we had a paired $t$-test design with Cohen's $d = 0.5$, 80% power  $\\alpha = 0.05$."
   ]
  },
  {
   "cell_type": "code",
   "execution_count": null,
   "metadata": {},
   "outputs": [],
   "source": [
    "pwr.t.test(d = 0.5, power = 0.80, sig.level = 0.05, type = \"paired\")"
   ]
  },
  {
   "cell_type": "markdown",
   "metadata": {
    "collapsed": true
   },
   "source": [
    "## 2.2 Simulation for Power Analysis\n",
    "\n",
    "For certain species of models, there is not a closed form solution for estimating power. In these cases, we use Monte Carlo simulations to generate our estimates of power. One common example of cases such as this is when we are estimating the power for linear or generalized linear models with many or multiple coefficients."
   ]
  },
  {
   "cell_type": "markdown",
   "metadata": {},
   "source": [
    "### 2.2.1 Simulating Linear Model"
   ]
  },
  {
   "cell_type": "code",
   "execution_count": null,
   "metadata": {},
   "outputs": [],
   "source": [
    "library(paramtest)"
   ]
  },
  {
   "cell_type": "code",
   "execution_count": null,
   "metadata": {},
   "outputs": [],
   "source": [
    "# Define function lm_test() to simulate linear models\n",
    "# and the power of their respective coefficients\n",
    "\n",
    "lm_test <- function(simNum, N, b1, b0 = 0, xm = 0, xsd = 1) {\n",
    "    x <- rnorm(N, xm, xsd)\n",
    "    y <- rnorm(N, b0 + b1*x, sqrt(1 - b1^2))  # var. approx. 1 after accounting\n",
    "                                              # for explained variance by x\n",
    "    model <- lm(y ~ 1 + x)\n",
    "\n",
    "    # pull output from model\n",
    "    est <- coef(summary(model))[\"x\", \"Estimate\"]\n",
    "    se <- coef(summary(model))[\"x\", \"Std. Error\"]\n",
    "    p <- coef(summary(model))[\"x\", \"Pr(>|t|)\"]\n",
    "\n",
    "    res <- c(xm = mean(x), xsd = sd(x), ym = mean(y), ysd = sd(y), est = est, se = se, p = p, sig = (p < .05))\n",
    "    \n",
    "    return(res)\n",
    "}\n",
    "\n",
    "# We vary N from 100 to 500; we are also setting coefficient \n",
    "# of x predicting y to be approx. 0.15 across all simulations\n",
    "power_lm <- grid_search(lm_test, \n",
    "                        params = list(N = c(100, 200, 300, 400, 500)), \n",
    "                        n.iter = 1000, \n",
    "                        output = \"data.frame\", \n",
    "                        b1 = 0.15,\n",
    "                        parallel = \"snow\", \n",
    "                        ncpus = 4)\n",
    "\n",
    "results(power_lm) %>%\n",
    "    group_by(N.test) %>%\n",
    "    summarise(power = mean(sig))\n"
   ]
  },
  {
   "cell_type": "markdown",
   "metadata": {},
   "source": [
    "### 2.2.2 Simulating Linear Model with Interaction"
   ]
  },
  {
   "cell_type": "code",
   "execution_count": null,
   "metadata": {},
   "outputs": [],
   "source": [
    "lm_test_interaction <- function(simNum, N, b1, b2, b3, b0 = 0, x1m = 0, x1sd = 1, x2m = 0, x2sd = 1) {\n",
    "\n",
    "    x1 <- rnorm(N, x1m, x1sd)\n",
    "    x2 <- rnorm(N, x2m, x2sd)\n",
    "    yvar <- sqrt(1 - b1^2 - b2^2 - b3^2)  # residual variance\n",
    "    y <- rnorm(N, b0 + b1*x1 + b2*x2 + b3*x1*x2, yvar)\n",
    "    model <- lm(y ~ x1 * x2)\n",
    "\n",
    "    # pull output from model (two main effects and interaction)\n",
    "    est_x1 <- coef(summary(model))['x1', 'Estimate']\n",
    "    p_x1 <- coef(summary(model))['x1', 'Pr(>|t|)']\n",
    "\n",
    "    est_x2 <- coef(summary(model))['x2', 'Estimate']\n",
    "    p_x2 <- coef(summary(model))['x2', 'Pr(>|t|)']\n",
    "    \n",
    "    est_x2x3 <- coef(summary(model))['x1:x2', 'Estimate']\n",
    "    p_x2x3 <- coef(summary(model))['x1:x2', 'Pr(>|t|)']\n",
    "\n",
    "    res <- c(est_x1 = est_x1, p_x1 = p_x1, sig_x1 = (p_x1 < 0.05), est_x2 = est_x2, p_x2 = p_x2,\n",
    "        sig_x2 = (p_x2 < 0.05), est_x2x3 = est_x2x3, p_int = p_x2x3, sig_x2x3 = p_x2x3 < 0.05)\n",
    "    \n",
    "    return(res)\n",
    "}\n",
    "\n",
    "# We vary N from 100 to 500; setting coefficient of x1 = 0.15, \n",
    "# coefficient of x2 = 0, and coefficient of interaction = 0.3\n",
    "power_lm_int <- grid_search(lm_test_interaction, \n",
    "                            params = list(N = c(100, 200, 300, 400, 500)),\n",
    "                            n.iter = 1000, \n",
    "                            output = \"data.frame\", \n",
    "                            b1 = 0.15, \n",
    "                            b2 = 0, \n",
    "                            b3 = 0.3, \n",
    "                            parallel = \"snow\", \n",
    "                            ncpus = 4)\n",
    "\n",
    "results(power_lm_int) %>%\n",
    "    group_by(N.test) %>%\n",
    "    summarise(\n",
    "        power_x1 = mean(sig_x1),\n",
    "        power_x2 = mean(sig_x2),\n",
    "        power_x2x3 = mean(sig_x2x3))"
   ]
  },
  {
   "cell_type": "markdown",
   "metadata": {},
   "source": [
    "# 3 Post-Hoc Tests"
   ]
  },
  {
   "cell_type": "code",
   "execution_count": null,
   "metadata": {},
   "outputs": [],
   "source": [
    "fm1 <- aov(births ~ day_of_week, us_births)"
   ]
  },
  {
   "cell_type": "code",
   "execution_count": null,
   "metadata": {},
   "outputs": [],
   "source": [
    "pairwise.t.test(us_births$births, us_births$day_of_week, \"fdr\")"
   ]
  },
  {
   "cell_type": "code",
   "execution_count": null,
   "metadata": {},
   "outputs": [],
   "source": [
    "TukeyHSD(fm1)"
   ]
  }
 ],
 "metadata": {
  "kernelspec": {
   "display_name": "R",
   "language": "R",
   "name": "ir"
  },
  "language_info": {
   "codemirror_mode": "r",
   "file_extension": ".r",
   "mimetype": "text/x-r-source",
   "name": "R",
   "pygments_lexer": "r",
   "version": "3.5.2"
  }
 },
 "nbformat": 4,
 "nbformat_minor": 2
}

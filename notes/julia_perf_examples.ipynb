{
 "cells": [
  {
   "cell_type": "code",
   "execution_count": null,
   "metadata": {},
   "outputs": [],
   "source": [
    "using BenchmarkTools\n",
    "\n",
    "\n",
    "# Define function that sets near-zeros values,\n",
    "# either positive or negative, to zero.\n",
    "\n",
    "function trunc_near_zeros!(A, thresh) \n",
    "    n, p = size(A)\n",
    "\n",
    "    for j = 1:p \n",
    "        @inbounds for i = 1:n \n",
    "            if abs(A[i, j]) < thresh \n",
    "                A[i, j] = 0.0 \n",
    "            end\n",
    "        end\n",
    "    end\n",
    "end \n",
    "\n",
    "trunc_near_zeros!(randn(4, 4), 0.001);         # warm up the JIT"
   ]
  },
  {
   "cell_type": "code",
   "execution_count": null,
   "metadata": {},
   "outputs": [],
   "source": [
    "n = 1_000_000\n",
    "p = 100\n",
    "X = randn(n, p);"
   ]
  },
  {
   "cell_type": "code",
   "execution_count": null,
   "metadata": {},
   "outputs": [],
   "source": [
    "@btime trunc_near_zeros!(X, 0.01);"
   ]
  },
  {
   "cell_type": "code",
   "execution_count": null,
   "metadata": {},
   "outputs": [],
   "source": []
  }
 ],
 "metadata": {
  "kernelspec": {
   "display_name": "Julia 1.0.0",
   "language": "julia",
   "name": "julia-1.0"
  },
  "language_info": {
   "file_extension": ".jl",
   "mimetype": "application/julia",
   "name": "julia",
   "version": "1.0.0"
  }
 },
 "nbformat": 4,
 "nbformat_minor": 2
}

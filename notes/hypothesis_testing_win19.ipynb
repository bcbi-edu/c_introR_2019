{
 "cells": [
  {
   "cell_type": "markdown",
   "metadata": {},
   "source": [
    "# 1 Binomial Test"
   ]
  },
  {
   "cell_type": "markdown",
   "metadata": {},
   "source": [
    "## Example 1.1\n",
    "\n",
    "Suppose we have the following data after tossing a coin several times:\n",
    "\n",
    "[H, T, T, T, H, H, T, H, T, T, H, T, T, T, H, H, T, H, T, T, T, H, T, T, T, H, T, T, T, H, T, T]\n",
    "\n",
    "Is this a fair coin?"
   ]
  },
  {
   "cell_type": "code",
   "execution_count": 1,
   "metadata": {},
   "outputs": [
    {
     "name": "stdout",
     "output_type": "stream",
     "text": [
      "[1] 32\n",
      "[1] 11\n"
     ]
    }
   ],
   "source": [
    "# create variable to store data\n",
    "coin_tosses <- c(\"H\", \"T\", \"T\", \"T\", \"H\", \"H\", \"T\", \"H\", \"T\", \"T\", \"H\", \n",
    "                 \"T\", \"T\", \"T\", \"H\", \"H\", \"T\", \"H\", \"T\", \"T\", \"T\", \"H\", \n",
    "                 \"T\", \"T\", \"T\", \"H\", \"T\", \"T\", \"T\", \"H\", \"T\", \"T\")\n",
    "\n",
    "# get number of tosses\n",
    "n_tosses <- length(coin_tosses)\n",
    "\n",
    "# get number of heads\n",
    "n_heads <- sum(coin_tosses == \"H\")\n",
    "\n",
    "# print variables we created to check sanity\n",
    "print(n_tosses)\n",
    "print(n_heads)"
   ]
  },
  {
   "cell_type": "code",
   "execution_count": 3,
   "metadata": {},
   "outputs": [
    {
     "name": "stdout",
     "output_type": "stream",
     "text": [
      "\n",
      "\tExact binomial test\n",
      "\n",
      "data:  n_heads and n_tosses\n",
      "number of successes = 11, number of trials = 32, p-value = 0.5909\n",
      "alternative hypothesis: true probability of success is not equal to 0.4\n",
      "95 percent confidence interval:\n",
      " 0.1857191 0.5319310\n",
      "sample estimates:\n",
      "probability of success \n",
      "               0.34375 \n",
      "\n"
     ]
    }
   ],
   "source": [
    "# run binomial test\n",
    "bin_test1 <- binom.test(n_heads, n_tosses)\n",
    "print(bin_test1)"
   ]
  },
  {
   "cell_type": "code",
   "execution_count": 4,
   "metadata": {},
   "outputs": [
    {
     "name": "stdout",
     "output_type": "stream",
     "text": [
      "List of 9\n",
      " $ statistic  : Named num 11\n",
      "  ..- attr(*, \"names\")= chr \"number of successes\"\n",
      " $ parameter  : Named num 32\n",
      "  ..- attr(*, \"names\")= chr \"number of trials\"\n",
      " $ p.value    : num 0.591\n",
      " $ conf.int   : atomic [1:2] 0.186 0.532\n",
      "  ..- attr(*, \"conf.level\")= num 0.95\n",
      " $ estimate   : Named num 0.344\n",
      "  ..- attr(*, \"names\")= chr \"probability of success\"\n",
      " $ null.value : Named num 0.4\n",
      "  ..- attr(*, \"names\")= chr \"probability of success\"\n",
      " $ alternative: chr \"two.sided\"\n",
      " $ method     : chr \"Exact binomial test\"\n",
      " $ data.name  : chr \"n_heads and n_tosses\"\n",
      " - attr(*, \"class\")= chr \"htest\"\n"
     ]
    }
   ],
   "source": [
    "# inspect the `test1` object more closely\n",
    "#attributes(bin_test1)\n",
    "str(bin_test1)"
   ]
  },
  {
   "cell_type": "markdown",
   "metadata": {},
   "source": [
    "## Example 1.2\n",
    "\n",
    "Suppose we are doing quality control for a medical device known to have a 0.001% failure rate. We are given a batch of 250000 to be tested. Of these, we find 17 defective devices. Does this batch have a significantly higher failure rate than our known failure rate?"
   ]
  },
  {
   "cell_type": "code",
   "execution_count": 5,
   "metadata": {
    "collapsed": true
   },
   "outputs": [],
   "source": [
    "# specify our inputs\n",
    "n_defectives <- 17\n",
    "n_trials <- 250000\n",
    "p_failure <- 0.00001\n"
   ]
  },
  {
   "cell_type": "code",
   "execution_count": 6,
   "metadata": {},
   "outputs": [
    {
     "name": "stdout",
     "output_type": "stream",
     "text": [
      "\n",
      "\tExact binomial test\n",
      "\n",
      "data:  n_defectives and n_trials\n",
      "number of successes = 17, number of trials = 250000, p-value =\n",
      "1.557e-09\n",
      "alternative hypothesis: true probability of success is greater than 1e-05\n",
      "95 percent confidence interval:\n",
      " 4.332901e-05 1.000000e+00\n",
      "sample estimates:\n",
      "probability of success \n",
      "               6.8e-05 \n",
      "\n"
     ]
    }
   ],
   "source": [
    "test2 <- binom.test(n_defectives, n_trials, p = p_failure, alternative = \"greater\")\n",
    "print(test2)"
   ]
  },
  {
   "cell_type": "markdown",
   "metadata": {},
   "source": [
    "---"
   ]
  },
  {
   "cell_type": "markdown",
   "metadata": {},
   "source": [
    "# 2 Pearson's $\\chi^2$ (goodness-of-fit) Test"
   ]
  },
  {
   "cell_type": "markdown",
   "metadata": {},
   "source": [
    "## Example 2.1"
   ]
  },
  {
   "cell_type": "markdown",
   "metadata": {},
   "source": [
    "Suppose we want to determine whether or not a given die is loaded (i.e., not a fair die). Say we roll the die 100 times, and we obtain the following results:\n",
    "\n",
    "|Value|Count|\n",
    "|-----|-----|\n",
    "|  1  | 13  |\n",
    "|  2  | 21  |\n",
    "|  3  | 15  |\n",
    "|  4  | 17  |\n",
    "|  5  | 20  |\n",
    "|  6  | 14  |\n",
    "\n",
    "Are we confident the die is fair?"
   ]
  },
  {
   "cell_type": "code",
   "execution_count": 12,
   "metadata": {},
   "outputs": [],
   "source": [
    "# create vector with our counts\n",
    "roll_cnts <- c(13, 21, 15, 17, 20, 14)\n",
    "\n",
    "# create vector with 6 elements, all 1/6\n",
    "probs <- c(1/2, rep(0.5/5, 5))\n"
   ]
  },
  {
   "cell_type": "code",
   "execution_count": 14,
   "metadata": {},
   "outputs": [
    {
     "name": "stdout",
     "output_type": "stream",
     "text": [
      "\n",
      "\tChi-squared test for given probabilities\n",
      "\n",
      "data:  roll_cnts\n",
      "X-squared = 58.48, df = 5, p-value = 2.504e-11\n",
      "\n"
     ]
    }
   ],
   "source": [
    "# run test\n",
    "chsq_test1 <- chisq.test(roll_cnts, p = probs)\n",
    "\n",
    "# print the results\n",
    "print(chsq_test1)\n"
   ]
  },
  {
   "cell_type": "code",
   "execution_count": null,
   "metadata": {},
   "outputs": [],
   "source": [
    "str(chsq_test1)"
   ]
  },
  {
   "cell_type": "markdown",
   "metadata": {},
   "source": [
    "---"
   ]
  },
  {
   "cell_type": "markdown",
   "metadata": {},
   "source": [
    "---"
   ]
  },
  {
   "cell_type": "markdown",
   "metadata": {},
   "source": [
    "# 3 Pearson's $\\chi^2$ (Independence) Test"
   ]
  },
  {
   "cell_type": "markdown",
   "metadata": {},
   "source": [
    "## Example 3.1\n",
    "Suppose we would like to teach cats to dance. And we have two different training systems: using food as a reward, and using affection as a reward. Suppose that after a week of training the cats, we test their ability to dance. So, we have two categorical variables: _training_ and _dance_. The results are below.\n",
    "\n",
    "|            |   |Food as reward|Affection as reward|\n",
    "|------------|---|--------------|-------------------|\n",
    "|Cat Dances? |Yes| 28           | 48                |\n",
    "|            |No | 10           | 114               |\n",
    "\n",
    "From these data, are the _training_ and _dance_ varialbes independent?\n",
    "\n",
    "*Source: Field _et al._ (2012)"
   ]
  },
  {
   "cell_type": "code",
   "execution_count": 15,
   "metadata": {},
   "outputs": [],
   "source": [
    "# construct tibble with our cat data\n",
    "cats <- data.frame(dance = c(rep(TRUE, 76), rep(FALSE, 124)),\n",
    "                   training = c(rep(\"food\", 28), rep(\"affection\", 48), \n",
    "                                rep(\"food\", 10), rep(\"affection\", 114)))"
   ]
  },
  {
   "cell_type": "code",
   "execution_count": 16,
   "metadata": {},
   "outputs": [
    {
     "name": "stdout",
     "output_type": "stream",
     "text": [
      "       training\n",
      "dance   affection food\n",
      "  FALSE       114   10\n",
      "  TRUE         48   28\n"
     ]
    }
   ],
   "source": [
    "# sanity check to make sure data are correct\n",
    "xtab1 <- xtabs(~ dance + training, cats)\n",
    "print(xtab1)"
   ]
  },
  {
   "cell_type": "code",
   "execution_count": 17,
   "metadata": {},
   "outputs": [
    {
     "name": "stdout",
     "output_type": "stream",
     "text": [
      "\n",
      "\tPearson's Chi-squared test with Yates' continuity correction\n",
      "\n",
      "data:  cats$training and cats$dance\n",
      "X-squared = 23.52, df = 1, p-value = 1.236e-06\n",
      "\n"
     ]
    }
   ],
   "source": [
    "chsq1 <- chisq.test(cats$training, cats$dance)\n",
    "print(chsq1)"
   ]
  },
  {
   "cell_type": "markdown",
   "metadata": {
    "collapsed": true
   },
   "source": [
    "---"
   ]
  },
  {
   "cell_type": "markdown",
   "metadata": {},
   "source": [
    "---"
   ]
  },
  {
   "cell_type": "markdown",
   "metadata": {},
   "source": [
    "# 4 Student's t-test"
   ]
  },
  {
   "cell_type": "markdown",
   "metadata": {},
   "source": [
    "## Example 4.1 "
   ]
  },
  {
   "cell_type": "markdown",
   "metadata": {},
   "source": [
    "Suppose you teach high school math and you would like to know whether your students perform at, above, or below average on the math portion of the SAT."
   ]
  },
  {
   "cell_type": "code",
   "execution_count": null,
   "metadata": {
    "collapsed": true
   },
   "outputs": [],
   "source": [
    "library(ggplot2)"
   ]
  },
  {
   "cell_type": "code",
   "execution_count": null,
   "metadata": {
    "collapsed": true
   },
   "outputs": [],
   "source": [
    "# Define vector of student's SAT scores\n",
    "sat <- c(527, 554, 534, 541, 539, 542, 498, 512, \n",
    "         528, 531, 563, 566, 498, 503, 551, 582, \n",
    "         529, 549, 571, 523, 543, 588, 571)"
   ]
  },
  {
   "cell_type": "code",
   "execution_count": null,
   "metadata": {},
   "outputs": [],
   "source": [
    "ggplot() + \n",
    "    geom_density(aes(x = sat), fill = \"lightblue\", colour = \"skyblue\", alpha = 0.5)"
   ]
  },
  {
   "cell_type": "code",
   "execution_count": null,
   "metadata": {},
   "outputs": [],
   "source": [
    "t.test(sat, mu = 527)"
   ]
  },
  {
   "cell_type": "markdown",
   "metadata": {},
   "source": [
    "## Example 4.2"
   ]
  },
  {
   "cell_type": "code",
   "execution_count": null,
   "metadata": {
    "collapsed": true
   },
   "outputs": [],
   "source": [
    "spider <- read.csv(\"spiderlong.csv\")"
   ]
  },
  {
   "cell_type": "code",
   "execution_count": null,
   "metadata": {},
   "outputs": [],
   "source": [
    "print(spider)"
   ]
  },
  {
   "cell_type": "code",
   "execution_count": null,
   "metadata": {},
   "outputs": [],
   "source": [
    "ggplot(spider, aes(x = anxiety, fill = group)) +\n",
    "    geom_density(alpha = 0.5, colour = \"grey\")"
   ]
  },
  {
   "cell_type": "code",
   "execution_count": null,
   "metadata": {},
   "outputs": [],
   "source": [
    "ggplot(spider, aes(y = anxiety, x = group, fill = group)) +\n",
    "    geom_boxplot(width = 0.2) + \n",
    "    geom_jitter(width = 0.2)"
   ]
  },
  {
   "cell_type": "code",
   "execution_count": null,
   "metadata": {},
   "outputs": [],
   "source": [
    "t.test(anxiety ~ group, data = spider, var.equal = TRUE)"
   ]
  },
  {
   "cell_type": "markdown",
   "metadata": {},
   "source": [
    "---"
   ]
  },
  {
   "cell_type": "markdown",
   "metadata": {},
   "source": [
    "---"
   ]
  },
  {
   "cell_type": "markdown",
   "metadata": {},
   "source": [
    "## Example 4.3"
   ]
  },
  {
   "cell_type": "markdown",
   "metadata": {},
   "source": [
    "Consider one of our first examples. Suppose we have developed some new medication to lower cholesterol. We randomly assign 50 patients each to a treatment and control group. \n",
    "\t\t\n",
    "After 6 months, we measure their total cholesterol. We want to know if the treatment group's total cholesterol is different than the control group's."
   ]
  },
  {
   "cell_type": "code",
   "execution_count": null,
   "metadata": {},
   "outputs": [],
   "source": [
    "library(tidyverse)\n",
    "\n",
    "# Read in data\n",
    "drug_trial <- read_csv(\"drug_trial_data.csv\")"
   ]
  },
  {
   "cell_type": "code",
   "execution_count": null,
   "metadata": {},
   "outputs": [],
   "source": [
    "head(drug_trial)"
   ]
  },
  {
   "cell_type": "code",
   "execution_count": null,
   "metadata": {},
   "outputs": [],
   "source": [
    "library(reshape2)       # needed for melt()\n",
    "\n",
    "\n",
    "# Construct long-format data for ggplot\n",
    "drug_trial_long <- melt(drug_trial, \n",
    "                        id.vars = c(\"id\", \"sex\", \"age\", \"group\"),\n",
    "                        measure.vars = c(\"time1\", \"time2\"),\n",
    "                        variable.name = \"timepoint\",\n",
    "                        value.name = \"cholesterol\")\n",
    "\n",
    "ggplot(drug_trial_long, aes(y = cholesterol, x = timepoint)) +\n",
    "    geom_jitter(width = 0.2, aes(colour = group)) "
   ]
  },
  {
   "cell_type": "code",
   "execution_count": null,
   "metadata": {},
   "outputs": [],
   "source": [
    "t.test(drug_trial$time1, drug_trial$time2, paired = TRUE)"
   ]
  },
  {
   "cell_type": "code",
   "execution_count": null,
   "metadata": {
    "collapsed": true
   },
   "outputs": [],
   "source": []
  }
 ],
 "metadata": {
  "kernelspec": {
   "display_name": "R",
   "language": "R",
   "name": "ir"
  },
  "language_info": {
   "codemirror_mode": "r",
   "file_extension": ".r",
   "mimetype": "text/x-r-source",
   "name": "R",
   "pygments_lexer": "r",
   "version": "3.5.2"
  }
 },
 "nbformat": 4,
 "nbformat_minor": 2
}
